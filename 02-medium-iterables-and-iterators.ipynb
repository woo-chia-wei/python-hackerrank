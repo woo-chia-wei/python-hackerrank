{
 "cells": [
  {
   "cell_type": "code",
   "execution_count": 1,
   "metadata": {},
   "outputs": [],
   "source": [
    "from functools import reduce\n",
    "\n",
    "def calculate_prob(N, letters, K):\n",
    "    # Mathematical solution is \n",
    "    #      (Number of non \"a\" element) Choose K \n",
    "    # 1 - [-------------------------------------]\n",
    "    #        (Number of elements) Choose K\n",
    "    #        (p)(p-1)(p-2)...(p-K+1)\n",
    "    # = 1 - -------------------------\n",
    "    #        (q)(q-1)(q-2)...(q-K+1)\n",
    "    # where p = (Number of non \"a\" element)\n",
    "    #       q = (Number of elements)\n",
    "\n",
    "    n_total = N\n",
    "    n_non_a_item = N - letters.split(' ').count('a')\n",
    "    \n",
    "    # Special cases:\n",
    "    if n_non_a_item == 0: return 1 # All elements are 'a', the prob = 1\n",
    "    if n_non_a_item == n_total: return 0 # All elements are not 'a', the prob = 0\n",
    "\n",
    "    numerator_multipliers = set(map(lambda x: n_non_a_item - x, range(K)))\n",
    "    denominator_multipliers = set(map(lambda x: n_total - x, range(K)))\n",
    "    \n",
    "    numerators = numerator_multipliers - denominator_multipliers\n",
    "    denominators = denominator_multipliers - numerator_multipliers\n",
    "    \n",
    "    prod = lambda x, y: x * y\n",
    "    return(1 - reduce(prod, (x/y for x, y in zip(numerators, denominators))))"
   ]
  },
  {
   "cell_type": "code",
   "execution_count": 2,
   "metadata": {},
   "outputs": [
    {
     "name": "stdout",
     "output_type": "stream",
     "text": [
      "0.8333333333333334\n"
     ]
    }
   ],
   "source": [
    "# N = int(input())\n",
    "# letters = input()\n",
    "# K = int(input())\n",
    "\n",
    "N = 4\n",
    "letters = 'a a b c'\n",
    "K = 2\n",
    "\n",
    "print(calculate_prob(N, letters, K))"
   ]
  },
  {
   "cell_type": "code",
   "execution_count": null,
   "metadata": {},
   "outputs": [],
   "source": []
  },
  {
   "cell_type": "code",
   "execution_count": null,
   "metadata": {},
   "outputs": [],
   "source": []
  }
 ],
 "metadata": {
  "kernelspec": {
   "display_name": "Python 3",
   "language": "python",
   "name": "python3"
  },
  "language_info": {
   "codemirror_mode": {
    "name": "ipython",
    "version": 3
   },
   "file_extension": ".py",
   "mimetype": "text/x-python",
   "name": "python",
   "nbconvert_exporter": "python",
   "pygments_lexer": "ipython3",
   "version": "3.6.4"
  }
 },
 "nbformat": 4,
 "nbformat_minor": 2
}
