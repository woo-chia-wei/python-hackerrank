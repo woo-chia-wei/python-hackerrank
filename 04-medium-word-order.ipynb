{
 "cells": [
  {
   "cell_type": "code",
   "execution_count": 1,
   "metadata": {},
   "outputs": [],
   "source": [
    "from collections import OrderedDict \n",
    "\n",
    "class WordOrder:\n",
    "    \n",
    "    def __init__(self):\n",
    "        self.word_dict = OrderedDict()\n",
    "        pass\n",
    "    \n",
    "    def update_word(self, next_word):\n",
    "        if next_word in self.word_dict:\n",
    "            self.word_dict[next_word] += 1\n",
    "        else:\n",
    "            self.word_dict[next_word] = 1\n",
    "            \n",
    "    def print_result(self):\n",
    "        \n",
    "        # Distinct Count:\n",
    "        total = len(self.word_dict)\n",
    "        print(total)\n",
    "        \n",
    "        # Each occurences:\n",
    "        print(' '.join(map(str, self.word_dict.values())))"
   ]
  },
  {
   "cell_type": "code",
   "execution_count": 2,
   "metadata": {},
   "outputs": [
    {
     "name": "stdout",
     "output_type": "stream",
     "text": [
      "3\n",
      "2 1 1\n"
     ]
    }
   ],
   "source": [
    "t = WordOrder()\n",
    "t.update_word('bcdef')\n",
    "t.update_word('abcdefg')\n",
    "t.update_word('bcde')\n",
    "t.update_word('bcdef')\n",
    "t.print_result()"
   ]
  },
  {
   "cell_type": "code",
   "execution_count": null,
   "metadata": {},
   "outputs": [],
   "source": []
  },
  {
   "cell_type": "code",
   "execution_count": null,
   "metadata": {},
   "outputs": [],
   "source": []
  }
 ],
 "metadata": {
  "kernelspec": {
   "display_name": "Python 3",
   "language": "python",
   "name": "python3"
  },
  "language_info": {
   "codemirror_mode": {
    "name": "ipython",
    "version": 3
   },
   "file_extension": ".py",
   "mimetype": "text/x-python",
   "name": "python",
   "nbconvert_exporter": "python",
   "pygments_lexer": "ipython3",
   "version": "3.6.4"
  }
 },
 "nbformat": 4,
 "nbformat_minor": 2
}
