{
 "cells": [
  {
   "cell_type": "markdown",
   "metadata": {},
   "source": [
    "# Strictly no if statement!"
   ]
  },
  {
   "cell_type": "code",
   "execution_count": 1,
   "metadata": {},
   "outputs": [],
   "source": [
    "import re\n",
    "\n",
    "def decode(items, N, M): # items = list of strings\n",
    "    result_line = ''\n",
    "    for m in range(M):\n",
    "        for n in range(N):\n",
    "            result_line += items[n][m]\n",
    "    \n",
    "    word_tokens = re.findall(\"\\w+\", result_line)\n",
    "    prefix = ''.join(re.findall(r'^(\\W*)', result_line))\n",
    "    postfix = ''.join(re.findall(r'(\\W*)$', result_line))\n",
    "    \n",
    "    result_line2 = prefix + ' '.join(word_tokens) + postfix\n",
    "    \n",
    "    return(result_line2)"
   ]
  },
  {
   "cell_type": "code",
   "execution_count": 2,
   "metadata": {},
   "outputs": [
    {
     "data": {
      "text/plain": [
       "'This is Matrix#  %!'"
      ]
     },
     "execution_count": 2,
     "metadata": {},
     "output_type": "execute_result"
    }
   ],
   "source": [
    "items = ['Tsi', 'h%x', 'i #', 'sM ', '$a ', '#t%', 'ir!']\n",
    "N = 7\n",
    "M = 3\n",
    "\n",
    "decode(items, N, M)"
   ]
  },
  {
   "cell_type": "markdown",
   "metadata": {},
   "source": [
    "<span style=\"color:red\">This scenario failed when there is no token, prefix = postfix, so adding up the string has duplicated content, to update solution later</span>"
   ]
  },
  {
   "cell_type": "code",
   "execution_count": 3,
   "metadata": {},
   "outputs": [
    {
     "data": {
      "text/plain": [
       "'#  @#  @'"
      ]
     },
     "execution_count": 3,
     "metadata": {},
     "output_type": "execute_result"
    }
   ],
   "source": [
    "items = ['# ', ' @']\n",
    "N = 2\n",
    "M = 2\n",
    "\n",
    "decode(items, N, M)"
   ]
  },
  {
   "cell_type": "code",
   "execution_count": null,
   "metadata": {},
   "outputs": [],
   "source": []
  },
  {
   "cell_type": "code",
   "execution_count": null,
   "metadata": {},
   "outputs": [],
   "source": []
  }
 ],
 "metadata": {
  "kernelspec": {
   "display_name": "Python 3",
   "language": "python",
   "name": "python3"
  },
  "language_info": {
   "codemirror_mode": {
    "name": "ipython",
    "version": 3
   },
   "file_extension": ".py",
   "mimetype": "text/x-python",
   "name": "python",
   "nbconvert_exporter": "python",
   "pygments_lexer": "ipython3",
   "version": "3.6.4"
  }
 },
 "nbformat": 4,
 "nbformat_minor": 2
}
