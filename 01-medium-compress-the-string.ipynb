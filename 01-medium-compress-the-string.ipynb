{
 "cells": [
  {
   "cell_type": "markdown",
   "metadata": {},
   "source": [
    "# Medium Question\n",
    "https://www.hackerrank.com/challenges/compress-the-string/problem"
   ]
  },
  {
   "cell_type": "code",
   "execution_count": 3,
   "metadata": {},
   "outputs": [
    {
     "name": "stdout",
     "output_type": "stream",
     "text": [
      "1222311\n",
      "(1, 1) (3, 2) (1, 3) (2, 1)\n"
     ]
    }
   ],
   "source": [
    "def compress_string(t):\n",
    "    original = t\n",
    "    previous1 = ' ' + original[:-1]\n",
    "\n",
    "    total = len(original)\n",
    "    key = None\n",
    "    count = None\n",
    "    result = []\n",
    "\n",
    "    for index, (current, previous) in enumerate(zip(original, previous1)):\n",
    "        if previous == ' ':\n",
    "            key = current\n",
    "            count = 1\n",
    "        else:\n",
    "            if previous == current:\n",
    "                count += 1\n",
    "            else:\n",
    "                result.append((int(count), int(key)))\n",
    "                key = current\n",
    "                count = 1\n",
    "        if index == total - 1:\n",
    "            result.append((int(count), int(key)))\n",
    "\n",
    "    result_string = ' '.join(map(lambda x: \"({}, {})\".format(x[0], x[1]), result))\n",
    "    return(result_string)\n",
    "\n",
    "print(compress_string(input()))"
   ]
  },
  {
   "cell_type": "code",
   "execution_count": null,
   "metadata": {},
   "outputs": [],
   "source": []
  },
  {
   "cell_type": "code",
   "execution_count": null,
   "metadata": {},
   "outputs": [],
   "source": []
  }
 ],
 "metadata": {
  "kernelspec": {
   "display_name": "Python 3",
   "language": "python",
   "name": "python3"
  },
  "language_info": {
   "codemirror_mode": {
    "name": "ipython",
    "version": 3
   },
   "file_extension": ".py",
   "mimetype": "text/x-python",
   "name": "python",
   "nbconvert_exporter": "python",
   "pygments_lexer": "ipython3",
   "version": "3.6.4"
  }
 },
 "nbformat": 4,
 "nbformat_minor": 2
}
