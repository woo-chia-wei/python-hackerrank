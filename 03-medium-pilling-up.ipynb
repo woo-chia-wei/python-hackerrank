{
 "cells": [
  {
   "cell_type": "code",
   "execution_count": 1,
   "metadata": {},
   "outputs": [],
   "source": [
    "def stackable(numbers):\n",
    "    largest = None\n",
    "    while len(numbers) > 0:\n",
    "        if len(numbers) == 1:\n",
    "            only = numbers[0]\n",
    "            \n",
    "            # Invalid stack, exit and return false\n",
    "            if only > largest:\n",
    "                return \"No\"\n",
    "            \n",
    "            numbers.pop()\n",
    "        else:\n",
    "            first = numbers[0]\n",
    "            last = numbers[-1]\n",
    "            \n",
    "            # Invalid stack, exit and return false\n",
    "            if largest is not None and (first > largest or last > largest):\n",
    "                return \"No\"\n",
    "            \n",
    "            if first >= last:\n",
    "                largest = first\n",
    "                numbers.pop(0)\n",
    "            else:\n",
    "                largest = last\n",
    "                numbers.pop(-1)\n",
    "    return \"Yes\"\n",
    "    \n"
   ]
  },
  {
   "cell_type": "code",
   "execution_count": 2,
   "metadata": {},
   "outputs": [
    {
     "data": {
      "text/plain": [
       "'Yes'"
      ]
     },
     "execution_count": 2,
     "metadata": {},
     "output_type": "execute_result"
    }
   ],
   "source": [
    "stackable([int(x) for x in '4 3 2 1 3 4'.split(' ')])"
   ]
  },
  {
   "cell_type": "code",
   "execution_count": 3,
   "metadata": {},
   "outputs": [
    {
     "data": {
      "text/plain": [
       "'No'"
      ]
     },
     "execution_count": 3,
     "metadata": {},
     "output_type": "execute_result"
    }
   ],
   "source": [
    "stackable([int(x) for x in '1 3 2'.split(' ')])"
   ]
  },
  {
   "cell_type": "code",
   "execution_count": null,
   "metadata": {},
   "outputs": [],
   "source": []
  }
 ],
 "metadata": {
  "kernelspec": {
   "display_name": "Python 3",
   "language": "python",
   "name": "python3"
  },
  "language_info": {
   "codemirror_mode": {
    "name": "ipython",
    "version": 3
   },
   "file_extension": ".py",
   "mimetype": "text/x-python",
   "name": "python",
   "nbconvert_exporter": "python",
   "pygments_lexer": "ipython3",
   "version": "3.6.4"
  }
 },
 "nbformat": 4,
 "nbformat_minor": 2
}
